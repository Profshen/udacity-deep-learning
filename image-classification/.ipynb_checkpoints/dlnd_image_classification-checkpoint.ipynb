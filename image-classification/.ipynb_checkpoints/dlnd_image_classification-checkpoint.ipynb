{
 "cells": [
  {
   "cell_type": "markdown",
   "metadata": {
    "collapsed": true,
    "deletable": true,
    "editable": true
   },
   "source": [
    "# Image Classification\n",
    "In this project, you'll classify images from the [CIFAR-10 dataset](https://www.cs.toronto.edu/~kriz/cifar.html).  The dataset consists of airplanes, dogs, cats, and other objects. You'll preprocess the images, then train a convolutional neural network on all the samples. The images need to be normalized and the labels need to be one-hot encoded.  You'll get to apply what you learned and build a convolutional, max pooling, dropout, and fully connected layers.  At the end, you'll get to see your neural network's predictions on the sample images.\n",
    "## Get the Data\n",
    "Run the following cell to download the [CIFAR-10 dataset for python](https://www.cs.toronto.edu/~kriz/cifar-10-python.tar.gz)."
   ]
  },
  {
   "cell_type": "code",
   "execution_count": 1,
   "metadata": {
    "collapsed": false,
    "deletable": true,
    "editable": true
   },
   "outputs": [
    {
     "name": "stderr",
     "output_type": "stream",
     "text": [
      "CIFAR-10 Dataset: 171MB [00:28, 6.06MB/s]                              \n"
     ]
    },
    {
     "name": "stdout",
     "output_type": "stream",
     "text": [
      "All files found!\n"
     ]
    }
   ],
   "source": [
    "\"\"\"\n",
    "DON'T MODIFY ANYTHING IN THIS CELL THAT IS BELOW THIS LINE\n",
    "\"\"\"\n",
    "from urllib.request import urlretrieve\n",
    "from os.path import isfile, isdir\n",
    "from tqdm import tqdm\n",
    "import problem_unittests as tests\n",
    "import tarfile\n",
    "\n",
    "cifar10_dataset_folder_path = 'cifar-10-batches-py'\n",
    "\n",
    "class DLProgress(tqdm):\n",
    "    last_block = 0\n",
    "\n",
    "    def hook(self, block_num=1, block_size=1, total_size=None):\n",
    "        self.total = total_size\n",
    "        self.update((block_num - self.last_block) * block_size)\n",
    "        self.last_block = block_num\n",
    "\n",
    "if not isfile('cifar-10-python.tar.gz'):\n",
    "    with DLProgress(unit='B', unit_scale=True, miniters=1, desc='CIFAR-10 Dataset') as pbar:\n",
    "        urlretrieve(\n",
    "            'https://www.cs.toronto.edu/~kriz/cifar-10-python.tar.gz',\n",
    "            'cifar-10-python.tar.gz',\n",
    "            pbar.hook)\n",
    "\n",
    "if not isdir(cifar10_dataset_folder_path):\n",
    "    with tarfile.open('cifar-10-python.tar.gz') as tar:\n",
    "        tar.extractall()\n",
    "        tar.close()\n",
    "\n",
    "\n",
    "tests.test_folder_path(cifar10_dataset_folder_path)"
   ]
  },
  {
   "cell_type": "markdown",
   "metadata": {
    "deletable": true,
    "editable": true
   },
   "source": [
    "## Explore the Data\n",
    "The dataset is broken into batches to prevent your machine from running out of memory.  The CIFAR-10 dataset consists of 5 batches, named `data_batch_1`, `data_batch_2`, etc.. Each batch contains the labels and images that are one of the following:\n",
    "* airplane\n",
    "* automobile\n",
    "* bird\n",
    "* cat\n",
    "* deer\n",
    "* dog\n",
    "* frog\n",
    "* horse\n",
    "* ship\n",
    "* truck\n",
    "\n",
    "Understanding a dataset is part of making predictions on the data.  Play around with the code cell below by changing the `batch_id` and `sample_id`. The `batch_id` is the id for a batch (1-5). The `sample_id` is the id for a image and label pair in the batch.\n",
    "\n",
    "Ask yourself \"What are all possible labels?\", \"What is the range of values for the image data?\", \"Are the labels in order or random?\".  Answers to questions like these will help you preprocess the data and end up with better predictions."
   ]
  },
  {
   "cell_type": "code",
   "execution_count": 59,
   "metadata": {
    "collapsed": false,
    "deletable": true,
    "editable": true
   },
   "outputs": [
    {
     "name": "stdout",
     "output_type": "stream",
     "text": [
      "\n",
      "Stats of batch 3:\n",
      "Samples: 10000\n",
      "Label Counts: {0: 994, 1: 1042, 2: 965, 3: 997, 4: 990, 5: 1029, 6: 978, 7: 1015, 8: 961, 9: 1029}\n",
      "First 20 Labels: [8, 5, 0, 6, 9, 2, 8, 3, 6, 2, 7, 4, 6, 9, 0, 0, 7, 3, 7, 2]\n",
      "\n",
      "Example of Image 4:\n",
      "Image - Min Value: 10 Max Value: 255\n",
      "Image - Shape: (32, 32, 3)\n",
      "Label - Label Id: 9 Name: truck\n"
     ]
    },
    {
     "data": {
      "image/png": "[encoded data removed]",
      "text/plain": [
       "<matplotlib.figure.Figure at 0x7faebafc7390>"
      ]
     },
     "metadata": {
      "image/png": {
       "height": 250,
       "width": 253
      }
     },
     "output_type": "display_data"
    }
   ],
   "source": [
    "%matplotlib inline\n",
    "%config InlineBackend.figure_format = 'retina'\n",
    "\n",
    "import helper\n",
    "import numpy as np\n",
    "\n",
    "# Explore the dataset\n",
    "batch_id = 3\n",
    "sample_id = 4\n",
    "helper.display_stats(cifar10_dataset_folder_path, batch_id, sample_id)"
   ]
  },
  {
   "cell_type": "markdown",
   "metadata": {
    "deletable": true,
    "editable": true
   },
   "source": [
    "## Implement Preprocess Functions\n",
    "### Normalize\n",
    "In the cell below, implement the `normalize` function to take in image data, `x`, and return it as a normalized Numpy array. The values should be in the range of 0 to 1, inclusive.  The return object should be the same shape as `x`."
   ]
  },
  {
   "cell_type": "code",
   "execution_count": 60,
   "metadata": {
    "collapsed": false,
    "deletable": true,
    "editable": true
   },
   "outputs": [
    {
     "name": "stdout",
     "output_type": "stream",
     "text": [
      "Tests Passed\n"
     ]
    }
   ],
   "source": [
    "def normalize(x):\n",
    "    \"\"\"\n",
    "    Normalize a list of sample image data in the range of 0 to 1\n",
    "    : x: List of image data.  The image shape is (32, 32, 3)\n",
    "    : return: Numpy array of normalize data\n",
    "    \"\"\"\n",
    "    return (x - x.min()) / (x.max() - x.min())\n",
    "\n",
    "\n",
    "\"\"\"\n",
    "DON'T MODIFY ANYTHING IN THIS CELL THAT IS BELOW THIS LINE\n",
    "\"\"\"\n",
    "tests.test_normalize(normalize)"
   ]
  },
  {
   "cell_type": "markdown",
   "metadata": {
    "deletable": true,
    "editable": true
   },
   "source": [
    "### One-hot encode\n",
    "Just like the previous code cell, you'll be implementing a function for preprocessing.  This time, you'll implement the `one_hot_encode` function. The input, `x`, are a list of labels.  Implement the function to return the list of labels as One-Hot encoded Numpy array.  The possible values for labels are 0 to 9. The one-hot encoding function should return the same encoding for each value between each call to `one_hot_encode`.  Make sure to save the map of encodings outside the function.\n",
    "\n",
    "Hint: Don't reinvent the wheel."
   ]
  },
  {
   "cell_type": "code",
   "execution_count": 61,
   "metadata": {
    "collapsed": false,
    "deletable": true,
    "editable": true
   },
   "outputs": [
    {
     "name": "stdout",
     "output_type": "stream",
     "text": [
      "Tests Passed\n"
     ]
    }
   ],
   "source": [
    "encodings = np.eye(10)\n",
    "\n",
    "def one_hot_encode(x):\n",
    "    \"\"\"\n",
    "    One hot encode a list of sample labels. Return a one-hot encoded vector for each label.\n",
    "    : x: List of sample Labels\n",
    "    : return: Numpy array of one-hot encoded labels\n",
    "    \"\"\"\n",
    "    return encodings[x]\n",
    "\n",
    "\n",
    "\"\"\"\n",
    "DON'T MODIFY ANYTHING IN THIS CELL THAT IS BELOW THIS LINE\n",
    "\"\"\"\n",
    "tests.test_one_hot_encode(one_hot_encode)"
   ]
  },
  {
   "cell_type": "markdown",
   "metadata": {
    "deletable": true,
    "editable": true
   },
   "source": [
    "### Randomize Data\n",
    "As you saw from exploring the data above, the order of the samples are randomized.  It doesn't hurt to randomize it again, but you don't need to for this dataset."
   ]
  },
  {
   "cell_type": "markdown",
   "metadata": {
    "deletable": true,
    "editable": true
   },
   "source": [
    "## Preprocess all the data and save it\n",
    "Running the code cell below will preprocess all the CIFAR-10 data and save it to file. The code below also uses 10% of the training data for validation."
   ]
  },
  {
   "cell_type": "code",
   "execution_count": 62,
   "metadata": {
    "collapsed": false,
    "deletable": true,
    "editable": true
   },
   "outputs": [
    {
     "ename": "KeyboardInterrupt",
     "evalue": "",
     "output_type": "error",
     "traceback": [
      "\u001b[0;31m---------------------------------------------------------------------------\u001b[0m",
      "\u001b[0;31mKeyboardInterrupt\u001b[0m                         Traceback (most recent call last)",
      "\u001b[0;32m<ipython-input-62-2e43b03e04f3>\u001b[0m in \u001b[0;36m<module>\u001b[0;34m()\u001b[0m\n\u001b[1;32m      3\u001b[0m \"\"\"\n\u001b[1;32m      4\u001b[0m \u001b[0;31m# Preprocess Training, Validation, and Testing Data\u001b[0m\u001b[0;34m\u001b[0m\u001b[0;34m\u001b[0m\u001b[0m\n\u001b[0;32m----> 5\u001b[0;31m \u001b[0mhelper\u001b[0m\u001b[0;34m.\u001b[0m\u001b[0mpreprocess_and_save_data\u001b[0m\u001b[0;34m(\u001b[0m\u001b[0mcifar10_dataset_folder_path\u001b[0m\u001b[0;34m,\u001b[0m \u001b[0mnormalize\u001b[0m\u001b[0;34m,\u001b[0m \u001b[0mone_hot_encode\u001b[0m\u001b[0;34m)\u001b[0m\u001b[0;34m\u001b[0m\u001b[0m\n\u001b[0m",
      "\u001b[0;32m/home/carnd/udacity-deep-learning/image-classification/helper.py\u001b[0m in \u001b[0;36mpreprocess_and_save_data\u001b[0;34m(cifar10_dataset_folder_path, normalize, one_hot_encode)\u001b[0m\n\u001b[1;32m     86\u001b[0m             \u001b[0mfeatures\u001b[0m\u001b[0;34m[\u001b[0m\u001b[0;34m:\u001b[0m\u001b[0;34m-\u001b[0m\u001b[0mvalidation_count\u001b[0m\u001b[0;34m]\u001b[0m\u001b[0;34m,\u001b[0m\u001b[0;34m\u001b[0m\u001b[0m\n\u001b[1;32m     87\u001b[0m             \u001b[0mlabels\u001b[0m\u001b[0;34m[\u001b[0m\u001b[0;34m:\u001b[0m\u001b[0;34m-\u001b[0m\u001b[0mvalidation_count\u001b[0m\u001b[0;34m]\u001b[0m\u001b[0;34m,\u001b[0m\u001b[0;34m\u001b[0m\u001b[0m\n\u001b[0;32m---> 88\u001b[0;31m             'preprocess_batch_' + str(batch_i) + '.p')\n\u001b[0m\u001b[1;32m     89\u001b[0m \u001b[0;34m\u001b[0m\u001b[0m\n\u001b[1;32m     90\u001b[0m         \u001b[0;31m# Use a portion of training batch for validation\u001b[0m\u001b[0;34m\u001b[0m\u001b[0;34m\u001b[0m\u001b[0m\n",
      "\u001b[0;32m/home/carnd/udacity-deep-learning/image-classification/helper.py\u001b[0m in \u001b[0;36m_preprocess_and_save\u001b[0;34m(normalize, one_hot_encode, features, labels, filename)\u001b[0m\n\u001b[1;32m     65\u001b[0m     \u001b[0mlabels\u001b[0m \u001b[0;34m=\u001b[0m \u001b[0mone_hot_encode\u001b[0m\u001b[0;34m(\u001b[0m\u001b[0mlabels\u001b[0m\u001b[0;34m)\u001b[0m\u001b[0;34m\u001b[0m\u001b[0m\n\u001b[1;32m     66\u001b[0m \u001b[0;34m\u001b[0m\u001b[0m\n\u001b[0;32m---> 67\u001b[0;31m     \u001b[0mpickle\u001b[0m\u001b[0;34m.\u001b[0m\u001b[0mdump\u001b[0m\u001b[0;34m(\u001b[0m\u001b[0;34m(\u001b[0m\u001b[0mfeatures\u001b[0m\u001b[0;34m,\u001b[0m \u001b[0mlabels\u001b[0m\u001b[0;34m)\u001b[0m\u001b[0;34m,\u001b[0m \u001b[0mopen\u001b[0m\u001b[0;34m(\u001b[0m\u001b[0mfilename\u001b[0m\u001b[0;34m,\u001b[0m \u001b[0;34m'wb'\u001b[0m\u001b[0;34m)\u001b[0m\u001b[0;34m)\u001b[0m\u001b[0;34m\u001b[0m\u001b[0m\n\u001b[0m\u001b[1;32m     68\u001b[0m \u001b[0;34m\u001b[0m\u001b[0m\n\u001b[1;32m     69\u001b[0m \u001b[0;34m\u001b[0m\u001b[0m\n",
      "\u001b[0;31mKeyboardInterrupt\u001b[0m: "
     ]
    }
   ],
   "source": [
    "\"\"\"\n",
    "DON'T MODIFY ANYTHING IN THIS CELL\n",
    "\"\"\"\n",
    "# Preprocess Training, Validation, and Testing Data\n",
    "helper.preprocess_and_save_data(cifar10_dataset_folder_path, normalize, one_hot_encode)"
   ]
  },
  {
   "cell_type": "markdown",
   "metadata": {
    "deletable": true,
    "editable": true
   },
   "source": [
    "# Check Point\n",
    "This is your first checkpoint.  If you ever decide to come back to this notebook or have to restart the notebook, you can start from here.  The preprocessed data has been saved to disk."
   ]
  },
  {
   "cell_type": "code",
   "execution_count": null,
   "metadata": {
    "collapsed": true,
    "deletable": true,
    "editable": true
   },
   "outputs": [],
   "source": [
    "\"\"\"\n",
    "DON'T MODIFY ANYTHING IN THIS CELL\n",
    "\"\"\"\n",
    "import pickle\n",
    "import problem_unittests as tests\n",
    "import helper\n",
    "\n",
    "# Load the Preprocessed Validation data\n",
    "valid_features, valid_labels = pickle.load(open('preprocess_validation.p', mode='rb'))"
   ]
  },
  {
   "cell_type": "markdown",
   "metadata": {
    "deletable": true,
    "editable": true
   },
   "source": [
    "## Build the network\n",
    "For the neural network, you'll build each layer into a function.  Most of the code you've seen has been outside of functions. To test your code more thoroughly, we require that you put each layer in a function.  This allows us to give you better feedback and test for simple mistakes using our unittests before you submit your project.\n",
    "\n",
    ">**Note:** If you're finding it hard to dedicate enough time for this course each week, we've provided a small shortcut to this part of the project. In the next couple of problems, you'll have the option to use classes from the [TensorFlow Layers](https://www.tensorflow.org/api_docs/python/tf/layers) or [TensorFlow Layers (contrib)](https://www.tensorflow.org/api_guides/python/contrib.layers) packages to build each layer, except the layers you build in the \"Convolutional and Max Pooling Layer\" section.  TF Layers is similar to Keras's and TFLearn's abstraction to layers, so it's easy to pickup.\n",
    "\n",
    ">However, if you would like to get the most out of this course, try to solve all the problems _without_ using anything from the TF Layers packages. You **can** still use classes from other packages that happen to have the same name as ones you find in TF Layers! For example, instead of using the TF Layers version of the `conv2d` class, [tf.layers.conv2d](https://www.tensorflow.org/api_docs/python/tf/layers/conv2d), you would want to use the TF Neural Network version of `conv2d`, [tf.nn.conv2d](https://www.tensorflow.org/api_docs/python/tf/nn/conv2d). \n",
    "\n",
    "Let's begin!\n",
    "\n",
    "### Input\n",
    "The neural network needs to read the image data, one-hot encoded labels, and dropout keep probability. Implement the following functions\n",
    "* Implement `neural_net_image_input`\n",
    " * Return a [TF Placeholder](https://www.tensorflow.org/api_docs/python/tf/placeholder)\n",
    " * Set the shape using `image_shape` with batch size set to `None`.\n",
    " * Name the TensorFlow placeholder \"x\" using the TensorFlow `name` parameter in the [TF Placeholder](https://www.tensorflow.org/api_docs/python/tf/placeholder).\n",
    "* Implement `neural_net_label_input`\n",
    " * Return a [TF Placeholder](https://www.tensorflow.org/api_docs/python/tf/placeholder)\n",
    " * Set the shape using `n_classes` with batch size set to `None`.\n",
    " * Name the TensorFlow placeholder \"y\" using the TensorFlow `name` parameter in the [TF Placeholder](https://www.tensorflow.org/api_docs/python/tf/placeholder).\n",
    "* Implement `neural_net_keep_prob_input`\n",
    " * Return a [TF Placeholder](https://www.tensorflow.org/api_docs/python/tf/placeholder) for dropout keep probability.\n",
    " * Name the TensorFlow placeholder \"keep_prob\" using the TensorFlow `name` parameter in the [TF Placeholder](https://www.tensorflow.org/api_docs/python/tf/placeholder).\n",
    "\n",
    "These names will be used at the end of the project to load your saved model.\n",
    "\n",
    "Note: `None` for shapes in TensorFlow allow for a dynamic size."
   ]
  },
  {
   "cell_type": "code",
   "execution_count": null,
   "metadata": {
    "collapsed": false,
    "deletable": true,
    "editable": true
   },
   "outputs": [],
   "source": [
    "import tensorflow as tf\n",
    "\n",
    "def neural_net_image_input(image_shape):\n",
    "    \"\"\"\n",
    "    Return a Tensor for a batch of image input\n",
    "    : image_shape: Shape of the images\n",
    "    : return: Tensor for image input.\n",
    "    \"\"\"\n",
    "    return tf.placeholder(tf.float32, [None, *image_shape], name=\"x\")\n",
    "\n",
    "\n",
    "def neural_net_label_input(n_classes):\n",
    "    \"\"\"\n",
    "    Return a Tensor for a batch of label input\n",
    "    : n_classes: Number of classes\n",
    "    : return: Tensor for label input.\n",
    "    \"\"\"\n",
    "    # TODO: Implement Function\n",
    "    return tf.placeholder(tf.float32, [None, n_classes], name=\"y\")\n",
    "\n",
    "\n",
    "def neural_net_keep_prob_input():\n",
    "    \"\"\"\n",
    "    Return a Tensor for keep probability\n",
    "    : return: Tensor for keep probability.\n",
    "    \"\"\"\n",
    "    return tf.placeholder(tf.float32, name=\"keep_prob\")\n",
    "\n",
    "\n",
    "\"\"\"\n",
    "DON'T MODIFY ANYTHING IN THIS CELL THAT IS BELOW THIS LINE\n",
    "\"\"\"\n",
    "tf.reset_default_graph()\n",
    "tests.test_nn_image_inputs(neural_net_image_input)\n",
    "tests.test_nn_label_inputs(neural_net_label_input)\n",
    "tests.test_nn_keep_prob_inputs(neural_net_keep_prob_input)"
   ]
  },
  {
   "cell_type": "markdown",
   "metadata": {
    "deletable": true,
    "editable": true
   },
   "source": [
    "### Convolution and Max Pooling Layer\n",
    "Convolution layers have a lot of success with images. For this code cell, you should implement the function `conv2d_maxpool` to apply convolution then max pooling:\n",
    "* Create the weight and bias using `conv_ksize`, `conv_num_outputs` and the shape of `x_tensor`.\n",
    "* Apply a convolution to `x_tensor` using weight and `conv_strides`.\n",
    " * We recommend you use same padding, but you're welcome to use any padding.\n",
    "* Add bias\n",
    "* Add a nonlinear activation to the convolution.\n",
    "* Apply Max Pooling using `pool_ksize` and `pool_strides`.\n",
    " * We recommend you use same padding, but you're welcome to use any padding.\n",
    "\n",
    "**Note:** You **can't** use [TensorFlow Layers](https://www.tensorflow.org/api_docs/python/tf/layers) or [TensorFlow Layers (contrib)](https://www.tensorflow.org/api_guides/python/contrib.layers) for **this** layer, but you can still use TensorFlow's [Neural Network](https://www.tensorflow.org/api_docs/python/tf/nn) package. You may still use the shortcut option for all the **other** layers."
   ]
  },
  {
   "cell_type": "code",
   "execution_count": null,
   "metadata": {
    "collapsed": false,
    "deletable": true,
    "editable": true
   },
   "outputs": [],
   "source": [
    "def conv2d_maxpool(x_tensor, conv_num_outputs, conv_ksize, conv_strides, pool_ksize, pool_strides):\n",
    "    \"\"\"\n",
    "    Apply convolution then max pooling to x_tensor\n",
    "    :param x_tensor: TensorFlow Tensor\n",
    "    :param conv_num_outputs: Number of outputs for the convolutional layer\n",
    "    :param conv_ksize: kernal size 2-D Tuple for the convolutional layer\n",
    "    :param conv_strides: Stride 2-D Tuple for convolution\n",
    "    :param pool_ksize: kernal size 2-D Tuple for pool\n",
    "    :param pool_strides: Stride 2-D Tuple for pool\n",
    "    : return: A tensor that represents convolution and max pooling of x_tensor\n",
    "    \"\"\"\n",
    "    \n",
    "    # The filter shape should be: kernel X input depth X output feature map\n",
    "\n",
    "    # x_tensor is num_inputs (0) X width (1) X height (2) X depth (3)\n",
    "    input_depth = x_tensor.get_shape().as_list()[3]\n",
    "    filter_shape = [*conv_ksize, input_depth, conv_num_outputs]\n",
    "    \n",
    "    filter_weights = tf.Variable(tf.random_normal(filter_shape, stddev=0.1))\n",
    "            \n",
    "    # Run a convolution\n",
    "    layer = tf.nn.conv2d(x_tensor, filter_weights, strides=[1, *conv_strides, 1], padding=\"SAME\")\n",
    "    \n",
    "    # Add the bias\n",
    "    bias = tf.Variable(tf.zeros(conv_num_outputs))\n",
    "    layer = tf.nn.bias_add(layer, bias)\n",
    "    \n",
    "    # Add a nonlinear activation\n",
    "    layer = tf.nn.relu(layer)\n",
    "        \n",
    "    # Apply max pooling\n",
    "    layer = tf.nn.max_pool(layer, ksize=[1, *pool_ksize, 1], strides=[1, *pool_strides, 1], padding=\"SAME\")\n",
    "    \n",
    "    return layer \n",
    "\n",
    "\n",
    "\"\"\"\n",
    "DON'T MODIFY ANYTHING IN THIS CELL THAT IS BELOW THIS LINE\n",
    "\"\"\"\n",
    "tests.test_con_pool(conv2d_maxpool)"
   ]
  },
  {
   "cell_type": "markdown",
   "metadata": {
    "deletable": true,
    "editable": true
   },
   "source": [
    "### Flatten Layer\n",
    "Implement the `flatten` function to change the dimension of `x_tensor` from a 4-D tensor to a 2-D tensor.  The output should be the shape (*Batch Size*, *Flattened Image Size*). Shortcut option: you can use classes from the [TensorFlow Layers](https://www.tensorflow.org/api_docs/python/tf/layers) or [TensorFlow Layers (contrib)](https://www.tensorflow.org/api_guides/python/contrib.layers) packages for this layer. For more of a challenge, only use other TensorFlow packages."
   ]
  },
  {
   "cell_type": "code",
   "execution_count": null,
   "metadata": {
    "collapsed": false,
    "deletable": true,
    "editable": true
   },
   "outputs": [],
   "source": [
    "def flatten(x_tensor):\n",
    "    \"\"\"\n",
    "    Flatten x_tensor to (Batch Size, Flattened Image Size)\n",
    "    : x_tensor: A tensor of size (Batch Size, ...), where ... are the image dimensions.\n",
    "    : return: A tensor of size (Batch Size, Flattened Image Size).\n",
    "    \"\"\"\n",
    "    dimensions = x_tensor.get_shape().as_list()\n",
    "    size = dimensions[1] * dimensions[2] * dimensions[3]\n",
    "    return tf.reshape(x_tensor, [-1, size])\n",
    "\n",
    "\"\"\"\n",
    "DON'T MODIFY ANYTHING IN THIS CELL THAT IS BELOW THIS LINE\n",
    "\"\"\"\n",
    "tests.test_flatten(flatten)"
   ]
  },
  {
   "cell_type": "markdown",
   "metadata": {
    "deletable": true,
    "editable": true
   },
   "source": [
    "### Fully-Connected Layer\n",
    "Implement the `fully_conn` function to apply a fully connected layer to `x_tensor` with the shape (*Batch Size*, *num_outputs*). Shortcut option: you can use classes from the [TensorFlow Layers](https://www.tensorflow.org/api_docs/python/tf/layers) or [TensorFlow Layers (contrib)](https://www.tensorflow.org/api_guides/python/contrib.layers) packages for this layer. For more of a challenge, only use other TensorFlow packages."
   ]
  },
  {
   "cell_type": "code",
   "execution_count": null,
   "metadata": {
    "collapsed": false,
    "deletable": true,
    "editable": true
   },
   "outputs": [],
   "source": [
    "def fully_conn(x_tensor, num_outputs):\n",
    "    \"\"\"\n",
    "    Apply a fully connected layer to x_tensor using weight and bias\n",
    "    : x_tensor: A 2-D tensor where the first dimension is batch size.\n",
    "    : num_outputs: The number of output that the new tensor should be.\n",
    "    : return: A 2-D tensor where the second dimension is num_outputs.\n",
    "    \"\"\"\n",
    "    # Initialize the weights and bias\n",
    "    num_features = x_tensor.get_shape().as_list()[1]\n",
    "    \n",
    "    weights = tf.Variable(tf.random_normal([num_features, num_outputs], stddev=0.1))\n",
    "    \n",
    "    # Connect the weights and add the bias\n",
    "    layer = tf.matmul(x_tensor, weights)  \n",
    "    \n",
    "    bias = tf.Variable(tf.zeros(num_outputs))\n",
    "    layer = tf.add(layer, bias)\n",
    "    \n",
    "    # Add a nonlinear activation function\n",
    "    layer = tf.nn.relu(layer)\n",
    "    \n",
    "    return layer\n",
    "\n",
    "\n",
    "\"\"\"\n",
    "DON'T MODIFY ANYTHING IN THIS CELL THAT IS BELOW THIS LINE\n",
    "\"\"\"\n",
    "tests.test_fully_conn(fully_conn)"
   ]
  },
  {
   "cell_type": "markdown",
   "metadata": {
    "deletable": true,
    "editable": true
   },
   "source": [
    "### Output Layer\n",
    "Implement the `output` function to apply a fully connected layer to `x_tensor` with the shape (*Batch Size*, *num_outputs*). Shortcut option: you can use classes from the [TensorFlow Layers](https://www.tensorflow.org/api_docs/python/tf/layers) or [TensorFlow Layers (contrib)](https://www.tensorflow.org/api_guides/python/contrib.layers) packages for this layer. For more of a challenge, only use other TensorFlow packages.\n",
    "\n",
    "**Note:** Activation, softmax, or cross entropy should **not** be applied to this."
   ]
  },
  {
   "cell_type": "code",
   "execution_count": null,
   "metadata": {
    "collapsed": false,
    "deletable": true,
    "editable": true
   },
   "outputs": [],
   "source": [
    "def output(x_tensor, num_outputs):\n",
    "    \"\"\"\n",
    "    Apply a output layer to x_tensor using weight and bias\n",
    "    : x_tensor: A 2-D tensor where the first dimension is batch size.\n",
    "    : num_outputs: The number of output that the new tensor should be.\n",
    "    : return: A 2-D tensor where the second dimension is num_outputs.\n",
    "    \"\"\"\n",
    "    num_features = x_tensor.get_shape().as_list()[1]\n",
    "    \n",
    "    weights = tf.Variable(tf.random_normal([num_features, num_outputs], stddev=0.1))\n",
    "    \n",
    "    layer = tf.matmul(x_tensor, weights)\n",
    "\n",
    "    bias = tf.Variable(tf.zeros(num_outputs))\n",
    "    layer = tf.add(layer, bias)\n",
    "    \n",
    "    return layer\n",
    "\n",
    "\"\"\"\n",
    "DON'T MODIFY ANYTHING IN THIS CELL THAT IS BELOW THIS LINE\n",
    "\"\"\"\n",
    "tests.test_output(output)"
   ]
  },
  {
   "cell_type": "markdown",
   "metadata": {
    "deletable": true,
    "editable": true
   },
   "source": [
    "### Create Convolutional Model\n",
    "Implement the function `conv_net` to create a convolutional neural network model. The function takes in a batch of images, `x`, and outputs logits.  Use the layers you created above to create this model:\n",
    "\n",
    "* Apply 1, 2, or 3 Convolution and Max Pool layers\n",
    "* Apply a Flatten Layer\n",
    "* Apply 1, 2, or 3 Fully Connected Layers\n",
    "* Apply an Output Layer\n",
    "* Return the output\n",
    "* Apply [TensorFlow's Dropout](https://www.tensorflow.org/api_docs/python/tf/nn/dropout) to one or more layers in the model using `keep_prob`. "
   ]
  },
  {
   "cell_type": "code",
   "execution_count": 69,
   "metadata": {
    "collapsed": false,
    "deletable": true,
    "editable": true
   },
   "outputs": [
    {
     "name": "stdout",
     "output_type": "stream",
     "text": [
      "Neural Network Built!\n"
     ]
    }
   ],
   "source": [
    "def conv_net(x, keep_prob):\n",
    "    \"\"\"\n",
    "    Create a convolutional neural network model\n",
    "    : x: Placeholder tensor that holds image data.\n",
    "    : keep_prob: Placeholder tensor that hold dropout keep probability.\n",
    "    : return: Tensor that represents logits\n",
    "    \"\"\"\n",
    "    \n",
    "    # Apply 1, 2, or 3 Convolution and Max Pool layers\n",
    "    #    Play around with different number of outputs, kernel size and stride\n",
    "    # Function Definition from Above:\n",
    "    #    conv2d_maxpool(x_tensor, conv_num_outputs, conv_ksize, conv_strides, pool_ksize, pool_strides)\n",
    "    \n",
    "    # Squeeze meaning into more depth through convolution layer pancakes\n",
    "    x = conv2d_maxpool(x, 64, (2, 2), (2, 2), (3, 3), (1, 1))   \n",
    "    x = conv2d_maxpool(x, 128, (3, 3), (2, 2), (3, 3), (1, 1))    \n",
    "    x = conv2d_maxpool(x, 256, (3, 3), (2, 2), (3, 3), (1, 1))    \n",
    "\n",
    "    # Apply a Flatten Layer\n",
    "    # Function Definition from Above:\n",
    "    #   flatten(x_tensor)\n",
    "    x = flatten(x)\n",
    "    \n",
    "    # Now take that meaning and squeeze it down to the # of classes\n",
    "    # Apply 1, 2, or 3 Fully Connected Layers\n",
    "    #    Play around with different number of outputs\n",
    "    # Function Definition from Above:\n",
    "    #   fully_conn(x_tensor, num_outputs)\n",
    "    x = fully_conn(x, 512)\n",
    "    x = tf.nn.dropout(x, keep_prob)\n",
    "    x = fully_conn(x, 512)\n",
    "    x = tf.nn.dropout(x, keep_prob)\n",
    "    x = fully_conn(x, 256)\n",
    "    \n",
    "    # Apply an Output Layer\n",
    "    #    Set this to the number of classes\n",
    "    # Function Definition from Above:\n",
    "    #   output(x_tensor, num_outputs)\n",
    "    x = output(x, 10)\n",
    "    \n",
    "    # TODO: return output\n",
    "    return x\n",
    "\n",
    "\n",
    "\"\"\"\n",
    "DON'T MODIFY ANYTHING IN THIS CELL THAT IS BELOW THIS LINE\n",
    "\"\"\"\n",
    "\n",
    "##############################\n",
    "## Build the Neural Network ##\n",
    "##############################\n",
    "\n",
    "# Remove previous weights, bias, inputs, etc..\n",
    "tf.reset_default_graph()\n",
    "\n",
    "# Inputs\n",
    "x = neural_net_image_input((32, 32, 3))\n",
    "y = neural_net_label_input(10)\n",
    "keep_prob = neural_net_keep_prob_input()\n",
    "\n",
    "# Model\n",
    "logits = conv_net(x, keep_prob)\n",
    "\n",
    "# Name logits Tensor, so that is can be loaded from disk after training\n",
    "logits = tf.identity(logits, name='logits')\n",
    "\n",
    "# Loss and Optimizer\n",
    "cost = tf.reduce_mean(tf.nn.softmax_cross_entropy_with_logits(logits=logits, labels=y))\n",
    "optimizer = tf.train.AdamOptimizer().minimize(cost)\n",
    "\n",
    "# Accuracy\n",
    "correct_pred = tf.equal(tf.argmax(logits, 1), tf.argmax(y, 1))\n",
    "accuracy = tf.reduce_mean(tf.cast(correct_pred, tf.float32), name='accuracy')\n",
    "\n",
    "tests.test_conv_net(conv_net)"
   ]
  },
  {
   "cell_type": "markdown",
   "metadata": {
    "deletable": true,
    "editable": true
   },
   "source": [
    "## Train the Neural Network\n",
    "### Single Optimization\n",
    "Implement the function `train_neural_network` to do a single optimization.  The optimization should use `optimizer` to optimize in `session` with a `feed_dict` of the following:\n",
    "* `x` for image input\n",
    "* `y` for labels\n",
    "* `keep_prob` for keep probability for dropout\n",
    "\n",
    "This function will be called for each batch, so `tf.global_variables_initializer()` has already been called.\n",
    "\n",
    "Note: Nothing needs to be returned. This function is only optimizing the neural network."
   ]
  },
  {
   "cell_type": "code",
   "execution_count": 70,
   "metadata": {
    "collapsed": false,
    "deletable": true,
    "editable": true
   },
   "outputs": [
    {
     "name": "stdout",
     "output_type": "stream",
     "text": [
      "Tests Passed\n"
     ]
    }
   ],
   "source": [
    "def train_neural_network(session, optimizer, keep_probability, feature_batch, label_batch):\n",
    "    \"\"\"\n",
    "    Optimize the session on a batch of images and labels\n",
    "    : session: Current TensorFlow session\n",
    "    : optimizer: TensorFlow optimizer function\n",
    "    : keep_probability: keep probability\n",
    "    : feature_batch: Batch of Numpy image data\n",
    "    : label_batch: Batch of Numpy label data\n",
    "    \"\"\"\n",
    "    feed_dict = {\n",
    "        x: feature_batch, \n",
    "        y: label_batch, \n",
    "        keep_prob: keep_probability\n",
    "    }\n",
    "    session.run(optimizer, feed_dict=feed_dict)\n",
    "\n",
    "\"\"\"\n",
    "DON'T MODIFY ANYTHING IN THIS CELL THAT IS BELOW THIS LINE\n",
    "\"\"\"\n",
    "tests.test_train_nn(train_neural_network)"
   ]
  },
  {
   "cell_type": "markdown",
   "metadata": {
    "deletable": true,
    "editable": true
   },
   "source": [
    "### Show Stats\n",
    "Implement the function `print_stats` to print loss and validation accuracy.  Use the global variables `valid_features` and `valid_labels` to calculate validation accuracy.  Use a keep probability of `1.0` to calculate the loss and validation accuracy."
   ]
  },
  {
   "cell_type": "code",
   "execution_count": 71,
   "metadata": {
    "collapsed": false,
    "deletable": true,
    "editable": true
   },
   "outputs": [],
   "source": [
    "def print_stats(session, feature_batch, label_batch, cost, accuracy):\n",
    "    \"\"\"\n",
    "    Print information about loss and validation accuracy\n",
    "    : session: Current TensorFlow session\n",
    "    : feature_batch: Batch of Numpy image data\n",
    "    : label_batch: Batch of Numpy label data\n",
    "    : cost: TensorFlow cost function\n",
    "    : accuracy: TensorFlow accuracy function\n",
    "    \"\"\"\n",
    "\n",
    "    loss = session.run(cost, feed_dict={x: feature_batch, y: label_batch, keep_prob: 1.0})\n",
    "    \n",
    "    validation_accuracy = session.run(accuracy, feed_dict={x: valid_features, y: valid_labels, keep_prob: 1.0})\n",
    "    \n",
    "    print(\"Loss={:.6f}\".format(loss) + \", Validation Accuracy={:.5f}\".format(validation_accuracy))\n"
   ]
  },
  {
   "cell_type": "markdown",
   "metadata": {
    "deletable": true,
    "editable": true
   },
   "source": [
    "### Hyperparameters\n",
    "Tune the following parameters:\n",
    "* Set `epochs` to the number of iterations until the network stops learning or start overfitting\n",
    "* Set `batch_size` to the highest number that your machine has memory for.  Most people set them to common sizes of memory:\n",
    " * 64\n",
    " * 128\n",
    " * 256\n",
    " * ...\n",
    "* Set `keep_probability` to the probability of keeping a node using dropout"
   ]
  },
  {
   "cell_type": "code",
   "execution_count": 74,
   "metadata": {
    "collapsed": true,
    "deletable": true,
    "editable": true
   },
   "outputs": [],
   "source": [
    "# TODO: Tune Parameters\n",
    "epochs = 50\n",
    "batch_size = 2048\n",
    "keep_probability = 0.5"
   ]
  },
  {
   "cell_type": "markdown",
   "metadata": {
    "deletable": true,
    "editable": true
   },
   "source": [
    "### Train on a Single CIFAR-10 Batch\n",
    "Instead of training the neural network on all the CIFAR-10 batches of data, let's use a single batch. This should save time while you iterate on the model to get a better accuracy.  Once the final validation accuracy is 50% or greater, run the model on all the data in the next section."
   ]
  },
  {
   "cell_type": "code",
   "execution_count": 75,
   "metadata": {
    "collapsed": false,
    "deletable": true,
    "editable": true
   },
   "outputs": [
    {
     "name": "stdout",
     "output_type": "stream",
     "text": [
      "Checking the Training on a Single Batch...\n",
      "Epoch  1, CIFAR-10 Batch 1:  Loss=2.283125, Validation Accuracy=0.11720\n",
      "Epoch  2, CIFAR-10 Batch 1:  Loss=2.197195, Validation Accuracy=0.21560\n",
      "Epoch  3, CIFAR-10 Batch 1:  Loss=2.136341, Validation Accuracy=0.21700\n",
      "Epoch  4, CIFAR-10 Batch 1:  Loss=1.985005, Validation Accuracy=0.25420\n",
      "Epoch  5, CIFAR-10 Batch 1:  Loss=1.933348, Validation Accuracy=0.27620\n",
      "Epoch  6, CIFAR-10 Batch 1:  Loss=1.890604, Validation Accuracy=0.30160\n",
      "Epoch  7, CIFAR-10 Batch 1:  Loss=1.813633, Validation Accuracy=0.33240\n",
      "Epoch  8, CIFAR-10 Batch 1:  Loss=1.737804, Validation Accuracy=0.35240\n",
      "Epoch  9, CIFAR-10 Batch 1:  Loss=1.696463, Validation Accuracy=0.36240\n",
      "Epoch 10, CIFAR-10 Batch 1:  Loss=1.580729, Validation Accuracy=0.38800\n",
      "Epoch 11, CIFAR-10 Batch 1:  Loss=1.536862, Validation Accuracy=0.39420\n",
      "Epoch 12, CIFAR-10 Batch 1:  Loss=1.513352, Validation Accuracy=0.40120\n",
      "Epoch 13, CIFAR-10 Batch 1:  Loss=1.453459, Validation Accuracy=0.41040\n",
      "Epoch 14, CIFAR-10 Batch 1:  Loss=1.380832, Validation Accuracy=0.42880\n",
      "Epoch 15, CIFAR-10 Batch 1:  Loss=1.325011, Validation Accuracy=0.45580\n",
      "Epoch 16, CIFAR-10 Batch 1:  Loss=1.308304, Validation Accuracy=0.45880\n",
      "Epoch 17, CIFAR-10 Batch 1:  Loss=1.408964, Validation Accuracy=0.43980\n",
      "Epoch 18, CIFAR-10 Batch 1:  Loss=1.283177, Validation Accuracy=0.45820\n",
      "Epoch 19, CIFAR-10 Batch 1:  Loss=1.232143, Validation Accuracy=0.47120\n",
      "Epoch 20, CIFAR-10 Batch 1:  Loss=1.163360, Validation Accuracy=0.49400\n",
      "Epoch 21, CIFAR-10 Batch 1:  Loss=1.139607, Validation Accuracy=0.50460\n",
      "Epoch 22, CIFAR-10 Batch 1:  Loss=1.090579, Validation Accuracy=0.51280\n",
      "Epoch 23, CIFAR-10 Batch 1:  Loss=1.072049, Validation Accuracy=0.51640\n",
      "Epoch 24, CIFAR-10 Batch 1:  Loss=1.104995, Validation Accuracy=0.49100\n",
      "Epoch 25, CIFAR-10 Batch 1:  Loss=1.009222, Validation Accuracy=0.53020\n",
      "Epoch 26, CIFAR-10 Batch 1:  Loss=0.968531, Validation Accuracy=0.52520\n",
      "Epoch 27, CIFAR-10 Batch 1:  Loss=0.959070, Validation Accuracy=0.52900\n",
      "Epoch 28, CIFAR-10 Batch 1:  Loss=1.020394, Validation Accuracy=0.50640\n",
      "Epoch 29, CIFAR-10 Batch 1:  Loss=0.870324, Validation Accuracy=0.55060\n",
      "Epoch 30, CIFAR-10 Batch 1:  Loss=0.847097, Validation Accuracy=0.55180\n",
      "Epoch 31, CIFAR-10 Batch 1:  Loss=0.792728, Validation Accuracy=0.56260\n",
      "Epoch 32, CIFAR-10 Batch 1:  Loss=0.802296, Validation Accuracy=0.54540\n",
      "Epoch 33, CIFAR-10 Batch 1:  Loss=0.797086, Validation Accuracy=0.53980\n",
      "Epoch 34, CIFAR-10 Batch 1:  Loss=0.784522, Validation Accuracy=0.53760\n",
      "Epoch 35, CIFAR-10 Batch 1:  Loss=0.735220, Validation Accuracy=0.55720\n",
      "Epoch 36, CIFAR-10 Batch 1:  Loss=0.671402, Validation Accuracy=0.57220\n",
      "Epoch 37, CIFAR-10 Batch 1:  Loss=0.683369, Validation Accuracy=0.55140\n",
      "Epoch 38, CIFAR-10 Batch 1:  Loss=0.627394, Validation Accuracy=0.57740\n",
      "Epoch 39, CIFAR-10 Batch 1:  Loss=0.664238, Validation Accuracy=0.56280\n",
      "Epoch 40, CIFAR-10 Batch 1:  Loss=0.565059, Validation Accuracy=0.58060\n",
      "Epoch 41, CIFAR-10 Batch 1:  Loss=0.579594, Validation Accuracy=0.56320\n",
      "Epoch 42, CIFAR-10 Batch 1:  Loss=0.529164, Validation Accuracy=0.57200\n",
      "Epoch 43, CIFAR-10 Batch 1:  Loss=0.647589, Validation Accuracy=0.53800\n",
      "Epoch 44, CIFAR-10 Batch 1:  Loss=0.663213, Validation Accuracy=0.53380\n",
      "Epoch 45, CIFAR-10 Batch 1:  Loss=0.551153, Validation Accuracy=0.57700\n",
      "Epoch 46, CIFAR-10 Batch 1:  Loss=0.515758, Validation Accuracy=0.58140\n",
      "Epoch 47, CIFAR-10 Batch 1:  Loss=0.441862, Validation Accuracy=0.59420\n",
      "Epoch 48, CIFAR-10 Batch 1:  Loss=0.391935, Validation Accuracy=0.59600\n",
      "Epoch 49, CIFAR-10 Batch 1:  Loss=0.373690, Validation Accuracy=0.59940\n",
      "Epoch 50, CIFAR-10 Batch 1:  Loss=0.419669, Validation Accuracy=0.57600\n"
     ]
    }
   ],
   "source": [
    "\"\"\"\n",
    "DON'T MODIFY ANYTHING IN THIS CELL\n",
    "\"\"\"\n",
    "print('Checking the Training on a Single Batch...')\n",
    "with tf.Session() as sess:\n",
    "    # Initializing the variables\n",
    "    sess.run(tf.global_variables_initializer())\n",
    "    \n",
    "    # Training cycle\n",
    "    for epoch in range(epochs):\n",
    "        batch_i = 1\n",
    "        for batch_features, batch_labels in helper.load_preprocess_training_batch(batch_i, batch_size):\n",
    "            train_neural_network(sess, optimizer, keep_probability, batch_features, batch_labels)\n",
    "        print('Epoch {:>2}, CIFAR-10 Batch {}:  '.format(epoch + 1, batch_i), end='')\n",
    "        print_stats(sess, batch_features, batch_labels, cost, accuracy)"
   ]
  },
  {
   "cell_type": "markdown",
   "metadata": {
    "deletable": true,
    "editable": true
   },
   "source": [
    "### Fully Train the Model\n",
    "Now that you got a good accuracy with a single CIFAR-10 batch, try it with all five batches."
   ]
  },
  {
   "cell_type": "code",
   "execution_count": 76,
   "metadata": {
    "collapsed": false,
    "deletable": true,
    "editable": true
   },
   "outputs": [
    {
     "name": "stdout",
     "output_type": "stream",
     "text": [
      "Training...\n",
      "Epoch  1, CIFAR-10 Batch 1:  Loss=2.290371, Validation Accuracy=0.10320\n",
      "Epoch  1, CIFAR-10 Batch 2:  Loss=2.239904, Validation Accuracy=0.17680\n",
      "Epoch  1, CIFAR-10 Batch 3:  Loss=2.165593, Validation Accuracy=0.17960\n",
      "Epoch  1, CIFAR-10 Batch 4:  Loss=2.097617, Validation Accuracy=0.17840\n",
      "Epoch  1, CIFAR-10 Batch 5:  Loss=2.028686, Validation Accuracy=0.24620\n",
      "Epoch  2, CIFAR-10 Batch 1:  Loss=2.031914, Validation Accuracy=0.23380\n",
      "Epoch  2, CIFAR-10 Batch 2:  Loss=1.864351, Validation Accuracy=0.27420\n",
      "Epoch  2, CIFAR-10 Batch 3:  Loss=1.767574, Validation Accuracy=0.32520\n",
      "Epoch  2, CIFAR-10 Batch 4:  Loss=1.746253, Validation Accuracy=0.34280\n",
      "Epoch  2, CIFAR-10 Batch 5:  Loss=1.694306, Validation Accuracy=0.34380\n",
      "Epoch  3, CIFAR-10 Batch 1:  Loss=1.679953, Validation Accuracy=0.37700\n",
      "Epoch  3, CIFAR-10 Batch 2:  Loss=1.643603, Validation Accuracy=0.37140\n",
      "Epoch  3, CIFAR-10 Batch 3:  Loss=1.528209, Validation Accuracy=0.40440\n",
      "Epoch  3, CIFAR-10 Batch 4:  Loss=1.535782, Validation Accuracy=0.41040\n",
      "Epoch  3, CIFAR-10 Batch 5:  Loss=1.551963, Validation Accuracy=0.41460\n",
      "Epoch  4, CIFAR-10 Batch 1:  Loss=1.465887, Validation Accuracy=0.43260\n",
      "Epoch  4, CIFAR-10 Batch 2:  Loss=1.471473, Validation Accuracy=0.43040\n",
      "Epoch  4, CIFAR-10 Batch 3:  Loss=1.402268, Validation Accuracy=0.43520\n",
      "Epoch  4, CIFAR-10 Batch 4:  Loss=1.387376, Validation Accuracy=0.45560\n",
      "Epoch  4, CIFAR-10 Batch 5:  Loss=1.400734, Validation Accuracy=0.46180\n",
      "Epoch  5, CIFAR-10 Batch 1:  Loss=1.369850, Validation Accuracy=0.46060\n",
      "Epoch  5, CIFAR-10 Batch 2:  Loss=1.443840, Validation Accuracy=0.44180\n",
      "Epoch  5, CIFAR-10 Batch 3:  Loss=1.344829, Validation Accuracy=0.46500\n",
      "Epoch  5, CIFAR-10 Batch 4:  Loss=1.308437, Validation Accuracy=0.48700\n",
      "Epoch  5, CIFAR-10 Batch 5:  Loss=1.267811, Validation Accuracy=0.49560\n",
      "Epoch  6, CIFAR-10 Batch 1:  Loss=1.240425, Validation Accuracy=0.51220\n",
      "Epoch  6, CIFAR-10 Batch 2:  Loss=1.241203, Validation Accuracy=0.51920\n",
      "Epoch  6, CIFAR-10 Batch 3:  Loss=1.209818, Validation Accuracy=0.51960\n",
      "Epoch  6, CIFAR-10 Batch 4:  Loss=1.198835, Validation Accuracy=0.50960\n",
      "Epoch  6, CIFAR-10 Batch 5:  Loss=1.150759, Validation Accuracy=0.53460\n",
      "Epoch  7, CIFAR-10 Batch 1:  Loss=1.202568, Validation Accuracy=0.52480\n",
      "Epoch  7, CIFAR-10 Batch 2:  Loss=1.223865, Validation Accuracy=0.51020\n",
      "Epoch  7, CIFAR-10 Batch 3:  Loss=1.140398, Validation Accuracy=0.53180\n",
      "Epoch  7, CIFAR-10 Batch 4:  Loss=1.168990, Validation Accuracy=0.53280\n",
      "Epoch  7, CIFAR-10 Batch 5:  Loss=1.142773, Validation Accuracy=0.53280\n",
      "Epoch  8, CIFAR-10 Batch 1:  Loss=1.132385, Validation Accuracy=0.53920\n",
      "Epoch  8, CIFAR-10 Batch 2:  Loss=1.122046, Validation Accuracy=0.55640\n",
      "Epoch  8, CIFAR-10 Batch 3:  Loss=1.044311, Validation Accuracy=0.56400\n",
      "Epoch  8, CIFAR-10 Batch 4:  Loss=1.057967, Validation Accuracy=0.55740\n",
      "Epoch  8, CIFAR-10 Batch 5:  Loss=1.041698, Validation Accuracy=0.57160\n",
      "Epoch  9, CIFAR-10 Batch 1:  Loss=1.070196, Validation Accuracy=0.57340\n",
      "Epoch  9, CIFAR-10 Batch 2:  Loss=1.072854, Validation Accuracy=0.57400\n",
      "Epoch  9, CIFAR-10 Batch 3:  Loss=0.976666, Validation Accuracy=0.57080\n",
      "Epoch  9, CIFAR-10 Batch 4:  Loss=0.999804, Validation Accuracy=0.57580\n",
      "Epoch  9, CIFAR-10 Batch 5:  Loss=0.972786, Validation Accuracy=0.58540\n",
      "Epoch 10, CIFAR-10 Batch 1:  Loss=1.021871, Validation Accuracy=0.57020\n",
      "Epoch 10, CIFAR-10 Batch 2:  Loss=1.005795, Validation Accuracy=0.59140\n",
      "Epoch 10, CIFAR-10 Batch 3:  Loss=1.032878, Validation Accuracy=0.57400\n",
      "Epoch 10, CIFAR-10 Batch 4:  Loss=0.997721, Validation Accuracy=0.56760\n",
      "Epoch 10, CIFAR-10 Batch 5:  Loss=0.965652, Validation Accuracy=0.58360\n",
      "Epoch 11, CIFAR-10 Batch 1:  Loss=1.018878, Validation Accuracy=0.56940\n",
      "Epoch 11, CIFAR-10 Batch 2:  Loss=1.017943, Validation Accuracy=0.56440\n",
      "Epoch 11, CIFAR-10 Batch 3:  Loss=0.965188, Validation Accuracy=0.56600\n",
      "Epoch 11, CIFAR-10 Batch 4:  Loss=0.944816, Validation Accuracy=0.59540\n",
      "Epoch 11, CIFAR-10 Batch 5:  Loss=0.885924, Validation Accuracy=0.60740\n",
      "Epoch 12, CIFAR-10 Batch 1:  Loss=0.919432, Validation Accuracy=0.60380\n",
      "Epoch 12, CIFAR-10 Batch 2:  Loss=0.908039, Validation Accuracy=0.61200\n",
      "Epoch 12, CIFAR-10 Batch 3:  Loss=0.812430, Validation Accuracy=0.61780\n",
      "Epoch 12, CIFAR-10 Batch 4:  Loss=0.860562, Validation Accuracy=0.61260\n",
      "Epoch 12, CIFAR-10 Batch 5:  Loss=0.822206, Validation Accuracy=0.61720\n",
      "Epoch 13, CIFAR-10 Batch 1:  Loss=0.850476, Validation Accuracy=0.61600\n",
      "Epoch 13, CIFAR-10 Batch 2:  Loss=0.852043, Validation Accuracy=0.61480\n",
      "Epoch 13, CIFAR-10 Batch 3:  Loss=0.771729, Validation Accuracy=0.62280\n",
      "Epoch 13, CIFAR-10 Batch 4:  Loss=0.886637, Validation Accuracy=0.58700\n",
      "Epoch 13, CIFAR-10 Batch 5:  Loss=0.786762, Validation Accuracy=0.62880\n",
      "Epoch 14, CIFAR-10 Batch 1:  Loss=0.840251, Validation Accuracy=0.62960\n",
      "Epoch 14, CIFAR-10 Batch 2:  Loss=0.828550, Validation Accuracy=0.61760\n",
      "Epoch 14, CIFAR-10 Batch 3:  Loss=0.741285, Validation Accuracy=0.62420\n",
      "Epoch 14, CIFAR-10 Batch 4:  Loss=0.816199, Validation Accuracy=0.61580\n",
      "Epoch 14, CIFAR-10 Batch 5:  Loss=0.746832, Validation Accuracy=0.64180\n",
      "Epoch 15, CIFAR-10 Batch 1:  Loss=0.804763, Validation Accuracy=0.62200\n",
      "Epoch 15, CIFAR-10 Batch 2:  Loss=0.773559, Validation Accuracy=0.63600\n",
      "Epoch 15, CIFAR-10 Batch 3:  Loss=0.680447, Validation Accuracy=0.63260\n",
      "Epoch 15, CIFAR-10 Batch 4:  Loss=0.733589, Validation Accuracy=0.63840\n",
      "Epoch 15, CIFAR-10 Batch 5:  Loss=0.738325, Validation Accuracy=0.62780\n",
      "Epoch 16, CIFAR-10 Batch 1:  Loss=0.723690, Validation Accuracy=0.64640\n",
      "Epoch 16, CIFAR-10 Batch 2:  Loss=0.730199, Validation Accuracy=0.64380\n",
      "Epoch 16, CIFAR-10 Batch 3:  Loss=0.657546, Validation Accuracy=0.64140\n",
      "Epoch 16, CIFAR-10 Batch 4:  Loss=0.704104, Validation Accuracy=0.64580\n",
      "Epoch 16, CIFAR-10 Batch 5:  Loss=0.690793, Validation Accuracy=0.64080\n",
      "Epoch 17, CIFAR-10 Batch 1:  Loss=0.751931, Validation Accuracy=0.62420\n",
      "Epoch 17, CIFAR-10 Batch 2:  Loss=0.749797, Validation Accuracy=0.63120\n",
      "Epoch 17, CIFAR-10 Batch 3:  Loss=0.646077, Validation Accuracy=0.65200\n",
      "Epoch 17, CIFAR-10 Batch 4:  Loss=0.744903, Validation Accuracy=0.63020\n",
      "Epoch 17, CIFAR-10 Batch 5:  Loss=0.683976, Validation Accuracy=0.64460\n",
      "Epoch 18, CIFAR-10 Batch 1:  Loss=0.673976, Validation Accuracy=0.65340\n",
      "Epoch 18, CIFAR-10 Batch 2:  Loss=0.688392, Validation Accuracy=0.63020\n",
      "Epoch 18, CIFAR-10 Batch 3:  Loss=0.607804, Validation Accuracy=0.65020\n",
      "Epoch 18, CIFAR-10 Batch 4:  Loss=0.625054, Validation Accuracy=0.65780\n",
      "Epoch 18, CIFAR-10 Batch 5:  Loss=0.607155, Validation Accuracy=0.66140\n",
      "Epoch 19, CIFAR-10 Batch 1:  Loss=0.624812, Validation Accuracy=0.65960\n",
      "Epoch 19, CIFAR-10 Batch 2:  Loss=0.678812, Validation Accuracy=0.63780\n",
      "Epoch 19, CIFAR-10 Batch 3:  Loss=0.579619, Validation Accuracy=0.65260\n",
      "Epoch 19, CIFAR-10 Batch 4:  Loss=0.627325, Validation Accuracy=0.64940\n",
      "Epoch 19, CIFAR-10 Batch 5:  Loss=0.576050, Validation Accuracy=0.66920\n",
      "Epoch 20, CIFAR-10 Batch 1:  Loss=0.656337, Validation Accuracy=0.65180\n",
      "Epoch 20, CIFAR-10 Batch 2:  Loss=0.609702, Validation Accuracy=0.65600\n",
      "Epoch 20, CIFAR-10 Batch 3:  Loss=0.561860, Validation Accuracy=0.65380\n",
      "Epoch 20, CIFAR-10 Batch 4:  Loss=0.575591, Validation Accuracy=0.67180\n",
      "Epoch 20, CIFAR-10 Batch 5:  Loss=0.570422, Validation Accuracy=0.67040\n",
      "Epoch 21, CIFAR-10 Batch 1:  Loss=0.593387, Validation Accuracy=0.65580\n",
      "Epoch 21, CIFAR-10 Batch 2:  Loss=0.591475, Validation Accuracy=0.66040\n",
      "Epoch 21, CIFAR-10 Batch 3:  Loss=0.599159, Validation Accuracy=0.64080\n",
      "Epoch 21, CIFAR-10 Batch 4:  Loss=0.604373, Validation Accuracy=0.64080\n",
      "Epoch 21, CIFAR-10 Batch 5:  Loss=0.547942, Validation Accuracy=0.66080\n",
      "Epoch 22, CIFAR-10 Batch 1:  Loss=0.544746, Validation Accuracy=0.66900\n",
      "Epoch 22, CIFAR-10 Batch 2:  Loss=0.548985, Validation Accuracy=0.67540\n",
      "Epoch 22, CIFAR-10 Batch 3:  Loss=0.527303, Validation Accuracy=0.66200\n",
      "Epoch 22, CIFAR-10 Batch 4:  Loss=0.485943, Validation Accuracy=0.68220\n",
      "Epoch 22, CIFAR-10 Batch 5:  Loss=0.492463, Validation Accuracy=0.66860\n",
      "Epoch 23, CIFAR-10 Batch 1:  Loss=0.511522, Validation Accuracy=0.67320\n",
      "Epoch 23, CIFAR-10 Batch 2:  Loss=0.484950, Validation Accuracy=0.67920\n",
      "Epoch 23, CIFAR-10 Batch 3:  Loss=0.428800, Validation Accuracy=0.69480\n",
      "Epoch 23, CIFAR-10 Batch 4:  Loss=0.422110, Validation Accuracy=0.69160\n",
      "Epoch 23, CIFAR-10 Batch 5:  Loss=0.449941, Validation Accuracy=0.67720\n",
      "Epoch 24, CIFAR-10 Batch 1:  Loss=0.449878, Validation Accuracy=0.68540\n",
      "Epoch 24, CIFAR-10 Batch 2:  Loss=0.434877, Validation Accuracy=0.69240\n",
      "Epoch 24, CIFAR-10 Batch 3:  Loss=0.443389, Validation Accuracy=0.67320\n",
      "Epoch 24, CIFAR-10 Batch 4:  Loss=0.433514, Validation Accuracy=0.67320\n",
      "Epoch 24, CIFAR-10 Batch 5:  Loss=0.411693, Validation Accuracy=0.68480\n",
      "Epoch 25, CIFAR-10 Batch 1:  Loss=0.425634, Validation Accuracy=0.68340\n",
      "Epoch 25, CIFAR-10 Batch 2:  Loss=0.388919, Validation Accuracy=0.69620\n",
      "Epoch 25, CIFAR-10 Batch 3:  Loss=0.359056, Validation Accuracy=0.69240\n",
      "Epoch 25, CIFAR-10 Batch 4:  Loss=0.379935, Validation Accuracy=0.67760\n",
      "Epoch 25, CIFAR-10 Batch 5:  Loss=0.396538, Validation Accuracy=0.68480\n",
      "Epoch 26, CIFAR-10 Batch 1:  Loss=0.403754, Validation Accuracy=0.68020\n",
      "Epoch 26, CIFAR-10 Batch 2:  Loss=0.375324, Validation Accuracy=0.69100\n",
      "Epoch 26, CIFAR-10 Batch 3:  Loss=0.370185, Validation Accuracy=0.68640\n",
      "Epoch 26, CIFAR-10 Batch 4:  Loss=0.378825, Validation Accuracy=0.67760\n",
      "Epoch 26, CIFAR-10 Batch 5:  Loss=0.374160, Validation Accuracy=0.67180\n",
      "Epoch 27, CIFAR-10 Batch 1:  Loss=0.466732, Validation Accuracy=0.64400\n",
      "Epoch 27, CIFAR-10 Batch 2:  Loss=0.394782, Validation Accuracy=0.68860\n",
      "Epoch 27, CIFAR-10 Batch 3:  Loss=0.402664, Validation Accuracy=0.68180\n",
      "Epoch 27, CIFAR-10 Batch 4:  Loss=0.349502, Validation Accuracy=0.69380\n",
      "Epoch 27, CIFAR-10 Batch 5:  Loss=0.385187, Validation Accuracy=0.66080\n",
      "Epoch 28, CIFAR-10 Batch 1:  Loss=0.399237, Validation Accuracy=0.67140\n",
      "Epoch 28, CIFAR-10 Batch 2:  Loss=0.413152, Validation Accuracy=0.68020\n",
      "Epoch 28, CIFAR-10 Batch 3:  Loss=0.389547, Validation Accuracy=0.68100\n",
      "Epoch 28, CIFAR-10 Batch 4:  Loss=0.350434, Validation Accuracy=0.68740\n",
      "Epoch 28, CIFAR-10 Batch 5:  Loss=0.376056, Validation Accuracy=0.65820\n",
      "Epoch 29, CIFAR-10 Batch 1:  Loss=0.367223, Validation Accuracy=0.68280\n",
      "Epoch 29, CIFAR-10 Batch 2:  Loss=0.386916, Validation Accuracy=0.68700\n",
      "Epoch 29, CIFAR-10 Batch 3:  Loss=0.399178, Validation Accuracy=0.67240\n",
      "Epoch 29, CIFAR-10 Batch 4:  Loss=0.329374, Validation Accuracy=0.69540\n",
      "Epoch 29, CIFAR-10 Batch 5:  Loss=0.381109, Validation Accuracy=0.65960\n",
      "Epoch 30, CIFAR-10 Batch 1:  Loss=0.384471, Validation Accuracy=0.67200\n",
      "Epoch 30, CIFAR-10 Batch 2:  Loss=0.347213, Validation Accuracy=0.67900\n",
      "Epoch 30, CIFAR-10 Batch 3:  Loss=0.341555, Validation Accuracy=0.69100\n",
      "Epoch 30, CIFAR-10 Batch 4:  Loss=0.300349, Validation Accuracy=0.69320\n",
      "Epoch 30, CIFAR-10 Batch 5:  Loss=0.337615, Validation Accuracy=0.67440\n",
      "Epoch 31, CIFAR-10 Batch 1:  Loss=0.393499, Validation Accuracy=0.64760\n",
      "Epoch 31, CIFAR-10 Batch 2:  Loss=0.343570, Validation Accuracy=0.68220\n",
      "Epoch 31, CIFAR-10 Batch 3:  Loss=0.327762, Validation Accuracy=0.68480\n",
      "Epoch 31, CIFAR-10 Batch 4:  Loss=0.278833, Validation Accuracy=0.68940\n",
      "Epoch 31, CIFAR-10 Batch 5:  Loss=0.293444, Validation Accuracy=0.68540\n",
      "Epoch 32, CIFAR-10 Batch 1:  Loss=0.316838, Validation Accuracy=0.66960\n",
      "Epoch 32, CIFAR-10 Batch 2:  Loss=0.300785, Validation Accuracy=0.69020\n",
      "Epoch 32, CIFAR-10 Batch 3:  Loss=0.330954, Validation Accuracy=0.68640\n",
      "Epoch 32, CIFAR-10 Batch 4:  Loss=0.285871, Validation Accuracy=0.69500\n",
      "Epoch 32, CIFAR-10 Batch 5:  Loss=0.294730, Validation Accuracy=0.68040\n",
      "Epoch 33, CIFAR-10 Batch 1:  Loss=0.305521, Validation Accuracy=0.68180\n",
      "Epoch 33, CIFAR-10 Batch 2:  Loss=0.287276, Validation Accuracy=0.69080\n",
      "Epoch 33, CIFAR-10 Batch 3:  Loss=0.316865, Validation Accuracy=0.67660\n",
      "Epoch 33, CIFAR-10 Batch 4:  Loss=0.264354, Validation Accuracy=0.69420\n",
      "Epoch 33, CIFAR-10 Batch 5:  Loss=0.278755, Validation Accuracy=0.68380\n",
      "Epoch 34, CIFAR-10 Batch 1:  Loss=0.306085, Validation Accuracy=0.67720\n",
      "Epoch 34, CIFAR-10 Batch 2:  Loss=0.335412, Validation Accuracy=0.67320\n",
      "Epoch 34, CIFAR-10 Batch 3:  Loss=0.306123, Validation Accuracy=0.67160\n",
      "Epoch 34, CIFAR-10 Batch 4:  Loss=0.310606, Validation Accuracy=0.67280\n",
      "Epoch 34, CIFAR-10 Batch 5:  Loss=0.270382, Validation Accuracy=0.68180\n",
      "Epoch 35, CIFAR-10 Batch 1:  Loss=0.289273, Validation Accuracy=0.68020\n",
      "Epoch 35, CIFAR-10 Batch 2:  Loss=0.283202, Validation Accuracy=0.68920\n",
      "Epoch 35, CIFAR-10 Batch 3:  Loss=0.304161, Validation Accuracy=0.67580\n",
      "Epoch 35, CIFAR-10 Batch 4:  Loss=0.292397, Validation Accuracy=0.66520\n",
      "Epoch 35, CIFAR-10 Batch 5:  Loss=0.261452, Validation Accuracy=0.68260\n",
      "Epoch 36, CIFAR-10 Batch 1:  Loss=0.274045, Validation Accuracy=0.68760\n",
      "Epoch 36, CIFAR-10 Batch 2:  Loss=0.267694, Validation Accuracy=0.68600\n",
      "Epoch 36, CIFAR-10 Batch 3:  Loss=0.248532, Validation Accuracy=0.69080\n",
      "Epoch 36, CIFAR-10 Batch 4:  Loss=0.228478, Validation Accuracy=0.68260\n",
      "Epoch 36, CIFAR-10 Batch 5:  Loss=0.274468, Validation Accuracy=0.68120\n",
      "Epoch 37, CIFAR-10 Batch 1:  Loss=0.246897, Validation Accuracy=0.68180\n",
      "Epoch 37, CIFAR-10 Batch 2:  Loss=0.198155, Validation Accuracy=0.70300\n",
      "Epoch 37, CIFAR-10 Batch 3:  Loss=0.243090, Validation Accuracy=0.68460\n",
      "Epoch 37, CIFAR-10 Batch 4:  Loss=0.188356, Validation Accuracy=0.69320\n",
      "Epoch 37, CIFAR-10 Batch 5:  Loss=0.200266, Validation Accuracy=0.69900\n",
      "Epoch 38, CIFAR-10 Batch 1:  Loss=0.240182, Validation Accuracy=0.67780\n",
      "Epoch 38, CIFAR-10 Batch 2:  Loss=0.219220, Validation Accuracy=0.68720\n",
      "Epoch 38, CIFAR-10 Batch 3:  Loss=0.242005, Validation Accuracy=0.67960\n",
      "Epoch 38, CIFAR-10 Batch 4:  Loss=0.217600, Validation Accuracy=0.68020\n",
      "Epoch 38, CIFAR-10 Batch 5:  Loss=0.228675, Validation Accuracy=0.68060\n",
      "Epoch 39, CIFAR-10 Batch 1:  Loss=0.213067, Validation Accuracy=0.69360\n",
      "Epoch 39, CIFAR-10 Batch 2:  Loss=0.221565, Validation Accuracy=0.68140\n",
      "Epoch 39, CIFAR-10 Batch 3:  Loss=0.231760, Validation Accuracy=0.67200\n",
      "Epoch 39, CIFAR-10 Batch 4:  Loss=0.230395, Validation Accuracy=0.67000\n",
      "Epoch 39, CIFAR-10 Batch 5:  Loss=0.243073, Validation Accuracy=0.67080\n",
      "Epoch 40, CIFAR-10 Batch 1:  Loss=0.245539, Validation Accuracy=0.68480\n",
      "Epoch 40, CIFAR-10 Batch 2:  Loss=0.230492, Validation Accuracy=0.68180\n",
      "Epoch 40, CIFAR-10 Batch 3:  Loss=0.215545, Validation Accuracy=0.68420\n",
      "Epoch 40, CIFAR-10 Batch 4:  Loss=0.159019, Validation Accuracy=0.70120\n",
      "Epoch 40, CIFAR-10 Batch 5:  Loss=0.179461, Validation Accuracy=0.68840\n",
      "Epoch 41, CIFAR-10 Batch 1:  Loss=0.182297, Validation Accuracy=0.68980\n",
      "Epoch 41, CIFAR-10 Batch 2:  Loss=0.175620, Validation Accuracy=0.69520\n",
      "Epoch 41, CIFAR-10 Batch 3:  Loss=0.177505, Validation Accuracy=0.69360\n",
      "Epoch 41, CIFAR-10 Batch 4:  Loss=0.173915, Validation Accuracy=0.68880\n",
      "Epoch 41, CIFAR-10 Batch 5:  Loss=0.183173, Validation Accuracy=0.69000\n",
      "Epoch 42, CIFAR-10 Batch 1:  Loss=0.186493, Validation Accuracy=0.68100\n",
      "Epoch 42, CIFAR-10 Batch 2:  Loss=0.187000, Validation Accuracy=0.68280\n",
      "Epoch 42, CIFAR-10 Batch 3:  Loss=0.175601, Validation Accuracy=0.69400\n",
      "Epoch 42, CIFAR-10 Batch 4:  Loss=0.146219, Validation Accuracy=0.69040\n",
      "Epoch 42, CIFAR-10 Batch 5:  Loss=0.227689, Validation Accuracy=0.66860\n",
      "Epoch 43, CIFAR-10 Batch 1:  Loss=0.203999, Validation Accuracy=0.67340\n",
      "Epoch 43, CIFAR-10 Batch 2:  Loss=0.187498, Validation Accuracy=0.68600\n",
      "Epoch 43, CIFAR-10 Batch 3:  Loss=0.181197, Validation Accuracy=0.69220\n",
      "Epoch 43, CIFAR-10 Batch 4:  Loss=0.137054, Validation Accuracy=0.69360\n",
      "Epoch 43, CIFAR-10 Batch 5:  Loss=0.155466, Validation Accuracy=0.68980\n",
      "Epoch 44, CIFAR-10 Batch 1:  Loss=0.188148, Validation Accuracy=0.67800\n",
      "Epoch 44, CIFAR-10 Batch 2:  Loss=0.211554, Validation Accuracy=0.66840\n",
      "Epoch 44, CIFAR-10 Batch 3:  Loss=0.183929, Validation Accuracy=0.68280\n",
      "Epoch 44, CIFAR-10 Batch 4:  Loss=0.184198, Validation Accuracy=0.66960\n",
      "Epoch 44, CIFAR-10 Batch 5:  Loss=0.172787, Validation Accuracy=0.68680\n",
      "Epoch 45, CIFAR-10 Batch 1:  Loss=0.214271, Validation Accuracy=0.68120\n",
      "Epoch 45, CIFAR-10 Batch 2:  Loss=0.180588, Validation Accuracy=0.68200\n",
      "Epoch 45, CIFAR-10 Batch 3:  Loss=0.201216, Validation Accuracy=0.66960\n",
      "Epoch 45, CIFAR-10 Batch 4:  Loss=0.153359, Validation Accuracy=0.68040\n",
      "Epoch 45, CIFAR-10 Batch 5:  Loss=0.176970, Validation Accuracy=0.68960\n",
      "Epoch 46, CIFAR-10 Batch 1:  Loss=0.195829, Validation Accuracy=0.68340\n",
      "Epoch 46, CIFAR-10 Batch 2:  Loss=0.152732, Validation Accuracy=0.68980\n",
      "Epoch 46, CIFAR-10 Batch 3:  Loss=0.169441, Validation Accuracy=0.68200\n",
      "Epoch 46, CIFAR-10 Batch 4:  Loss=0.136460, Validation Accuracy=0.69340\n",
      "Epoch 46, CIFAR-10 Batch 5:  Loss=0.148916, Validation Accuracy=0.69480\n",
      "Epoch 47, CIFAR-10 Batch 1:  Loss=0.154831, Validation Accuracy=0.69740\n",
      "Epoch 47, CIFAR-10 Batch 2:  Loss=0.146639, Validation Accuracy=0.67880\n",
      "Epoch 47, CIFAR-10 Batch 3:  Loss=0.197820, Validation Accuracy=0.65520\n",
      "Epoch 47, CIFAR-10 Batch 4:  Loss=0.124542, Validation Accuracy=0.69140\n",
      "Epoch 47, CIFAR-10 Batch 5:  Loss=0.176351, Validation Accuracy=0.67560\n",
      "Epoch 48, CIFAR-10 Batch 1:  Loss=0.152262, Validation Accuracy=0.69360\n",
      "Epoch 48, CIFAR-10 Batch 2:  Loss=0.138257, Validation Accuracy=0.67600\n",
      "Epoch 48, CIFAR-10 Batch 3:  Loss=0.128835, Validation Accuracy=0.68840\n",
      "Epoch 48, CIFAR-10 Batch 4:  Loss=0.108022, Validation Accuracy=0.68700\n",
      "Epoch 48, CIFAR-10 Batch 5:  Loss=0.142133, Validation Accuracy=0.67560\n",
      "Epoch 49, CIFAR-10 Batch 1:  Loss=0.141746, Validation Accuracy=0.68920\n",
      "Epoch 49, CIFAR-10 Batch 2:  Loss=0.131241, Validation Accuracy=0.68040\n",
      "Epoch 49, CIFAR-10 Batch 3:  Loss=0.137332, Validation Accuracy=0.67500\n",
      "Epoch 49, CIFAR-10 Batch 4:  Loss=0.101247, Validation Accuracy=0.69280\n",
      "Epoch 49, CIFAR-10 Batch 5:  Loss=0.121485, Validation Accuracy=0.68160\n",
      "Epoch 50, CIFAR-10 Batch 1:  Loss=0.151800, Validation Accuracy=0.68420\n",
      "Epoch 50, CIFAR-10 Batch 2:  Loss=0.153515, Validation Accuracy=0.67960\n",
      "Epoch 50, CIFAR-10 Batch 3:  Loss=0.151894, Validation Accuracy=0.67480\n",
      "Epoch 50, CIFAR-10 Batch 4:  Loss=0.159929, Validation Accuracy=0.66760\n",
      "Epoch 50, CIFAR-10 Batch 5:  Loss=0.142337, Validation Accuracy=0.67460\n"
     ]
    }
   ],
   "source": [
    "\"\"\"\n",
    "DON'T MODIFY ANYTHING IN THIS CELL\n",
    "\"\"\"\n",
    "save_model_path = './image_classification'\n",
    "\n",
    "print('Training...')\n",
    "with tf.Session() as sess:\n",
    "    # Initializing the variables\n",
    "    sess.run(tf.global_variables_initializer())\n",
    "    \n",
    "    # Training cycle\n",
    "    for epoch in range(epochs):\n",
    "        # Loop over all batches\n",
    "        n_batches = 5\n",
    "        for batch_i in range(1, n_batches + 1):\n",
    "            for batch_features, batch_labels in helper.load_preprocess_training_batch(batch_i, batch_size):\n",
    "                train_neural_network(sess, optimizer, keep_probability, batch_features, batch_labels)\n",
    "            print('Epoch {:>2}, CIFAR-10 Batch {}:  '.format(epoch + 1, batch_i), end='')\n",
    "            print_stats(sess, batch_features, batch_labels, cost, accuracy)\n",
    "            \n",
    "    # Save Model\n",
    "    saver = tf.train.Saver()\n",
    "    save_path = saver.save(sess, save_model_path)"
   ]
  },
  {
   "cell_type": "markdown",
   "metadata": {
    "deletable": true,
    "editable": true
   },
   "source": [
    "# Checkpoint\n",
    "The model has been saved to disk.\n",
    "## Test Model\n",
    "Test your model against the test dataset.  This will be your final accuracy. You should have an accuracy greater than 50%. If you don't, keep tweaking the model architecture and parameters."
   ]
  },
  {
   "cell_type": "code",
   "execution_count": 77,
   "metadata": {
    "collapsed": false,
    "deletable": true,
    "editable": true
   },
   "outputs": [
    {
     "name": "stdout",
     "output_type": "stream",
     "text": [
      "Testing Accuracy: 0.6822533488273621\n",
      "\n"
     ]
    },
    {
     "data": {
      "image/png": "[encoded data removed]",
      "text/plain": [
       "<matplotlib.figure.Figure at 0x7faf28161f28>"
      ]
     },
     "metadata": {
      "image/png": {
       "height": 319,
       "width": 355
      }
     },
     "output_type": "display_data"
    }
   ],
   "source": [
    "\"\"\"\n",
    "DON'T MODIFY ANYTHING IN THIS CELL\n",
    "\"\"\"\n",
    "%matplotlib inline\n",
    "%config InlineBackend.figure_format = 'retina'\n",
    "\n",
    "import tensorflow as tf\n",
    "import pickle\n",
    "import helper\n",
    "import random\n",
    "\n",
    "# Set batch size if not already set\n",
    "try:\n",
    "    if batch_size:\n",
    "        pass\n",
    "except NameError:\n",
    "    batch_size = 64\n",
    "\n",
    "save_model_path = './image_classification'\n",
    "n_samples = 4\n",
    "top_n_predictions = 3\n",
    "\n",
    "def test_model():\n",
    "    \"\"\"\n",
    "    Test the saved model against the test dataset\n",
    "    \"\"\"\n",
    "\n",
    "    test_features, test_labels = pickle.load(open('preprocess_training.p', mode='rb'))\n",
    "    loaded_graph = tf.Graph()\n",
    "\n",
    "    with tf.Session(graph=loaded_graph) as sess:\n",
    "        # Load model\n",
    "        loader = tf.train.import_meta_graph(save_model_path + '.meta')\n",
    "        loader.restore(sess, save_model_path)\n",
    "\n",
    "        # Get Tensors from loaded model\n",
    "        loaded_x = loaded_graph.get_tensor_by_name('x:0')\n",
    "        loaded_y = loaded_graph.get_tensor_by_name('y:0')\n",
    "        loaded_keep_prob = loaded_graph.get_tensor_by_name('keep_prob:0')\n",
    "        loaded_logits = loaded_graph.get_tensor_by_name('logits:0')\n",
    "        loaded_acc = loaded_graph.get_tensor_by_name('accuracy:0')\n",
    "        \n",
    "        # Get accuracy in batches for memory limitations\n",
    "        test_batch_acc_total = 0\n",
    "        test_batch_count = 0\n",
    "        \n",
    "        for train_feature_batch, train_label_batch in helper.batch_features_labels(test_features, test_labels, batch_size):\n",
    "            test_batch_acc_total += sess.run(\n",
    "                loaded_acc,\n",
    "                feed_dict={loaded_x: train_feature_batch, loaded_y: train_label_batch, loaded_keep_prob: 1.0})\n",
    "            test_batch_count += 1\n",
    "\n",
    "        print('Testing Accuracy: {}\\n'.format(test_batch_acc_total/test_batch_count))\n",
    "\n",
    "        # Print Random Samples\n",
    "        random_test_features, random_test_labels = tuple(zip(*random.sample(list(zip(test_features, test_labels)), n_samples)))\n",
    "        random_test_predictions = sess.run(\n",
    "            tf.nn.top_k(tf.nn.softmax(loaded_logits), top_n_predictions),\n",
    "            feed_dict={loaded_x: random_test_features, loaded_y: random_test_labels, loaded_keep_prob: 1.0})\n",
    "        helper.display_image_predictions(random_test_features, random_test_labels, random_test_predictions)\n",
    "\n",
    "\n",
    "test_model()"
   ]
  },
  {
   "cell_type": "markdown",
   "metadata": {
    "deletable": true,
    "editable": true
   },
   "source": [
    "## Why 50-70% Accuracy?\n",
    "You might be wondering why you can't get an accuracy any higher. First things first, 50% isn't bad for a simple CNN.  Pure guessing would get you 10% accuracy. However, you might notice people are getting scores [well above 70%](http://rodrigob.github.io/are_we_there_yet/build/classification_datasets_results.html#43494641522d3130).  That's because we haven't taught you all there is to know about neural networks. We still need to cover a few more techniques.\n",
    "## Submitting This Project\n",
    "When submitting this project, make sure to run all the cells before saving the notebook.  Save the notebook file as \"dlnd_image_classification.ipynb\" and save it as a HTML file under \"File\" -> \"Download as\".  Include the \"helper.py\" and \"problem_unittests.py\" files in your submission."
   ]
  }
 ],
 "metadata": {
  "kernelspec": {
   "display_name": "Python 3",
   "language": "python",
   "name": "python3"
  },
  "language_info": {
   "codemirror_mode": {
    "name": "ipython",
    "version": 3
   },
   "file_extension": ".py",
   "mimetype": "text/x-python",
   "name": "python",
   "nbconvert_exporter": "python",
   "pygments_lexer": "ipython3",
   "version": "3.5.2"
  },
  "widgets": {
   "state": {},
   "version": "1.1.2"
  }
 },
 "nbformat": 4,
 "nbformat_minor": 0
}
